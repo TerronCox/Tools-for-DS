{
 "cells": [
  {
   "cell_type": "markdown",
   "id": "88433be1-0c8e-4c70-9c9d-bcb29bb1c9ba",
   "metadata": {},
   "source": [
    "# Data Science Tools and Ecosystem"
   ]
  },
  {
   "cell_type": "markdown",
   "id": "bb22fe42-3b24-4996-a22f-981d38f4982e",
   "metadata": {},
   "source": [
    "In this notebook, Data Science Tools and Ecosystems will be summarized."
   ]
  },
  {
   "cell_type": "markdown",
   "id": "d6951f40-fd8e-4e23-b39d-cf02d770cda8",
   "metadata": {},
   "source": [
    "Objectives:\n",
    "- List popular languages for data science\n",
    "- List popular libraries for data science\n",
    "- create a table of data science tools\n",
    "  "
   ]
  },
  {
   "cell_type": "markdown",
   "id": "c491af48-103e-4799-b3bd-d72f2b19d908",
   "metadata": {},
   "source": [
    "Some of the popular languages that Data Scientists use are:\n",
    "1. Python\n",
    "2. R\n",
    "3. Julia"
   ]
  },
  {
   "cell_type": "markdown",
   "id": "c1896b28-4973-472b-b359-15c892850d74",
   "metadata": {},
   "source": [
    "Some of the commonly used libraries used by Data Scientists include:\n",
    "1. Pandas\n",
    "2. Numpy\n",
    "3. ggplot2"
   ]
  },
  {
   "cell_type": "markdown",
   "id": "bcd9e1c4-da72-4b5f-9e6d-d2a79e39e742",
   "metadata": {},
   "source": [
    "|Data Science Tools|\n",
    "|------------------|\n",
    "|Anaconda|\n",
    "|R Studios|\n",
    "|Jupyter Labs|\n"
   ]
  },
  {
   "cell_type": "markdown",
   "id": "f076beb1-2fd0-48a4-8cdb-dc6280a9bcc6",
   "metadata": {},
   "source": [
    "### Below are a few examples of evaluating arithmetic expressions in Python"
   ]
  },
  {
   "cell_type": "code",
   "execution_count": 1,
   "id": "83c8b9b6-c977-4399-93f4-e88169f95d6c",
   "metadata": {},
   "outputs": [
    {
     "data": {
      "text/plain": [
       "17"
      ]
     },
     "execution_count": 1,
     "metadata": {},
     "output_type": "execute_result"
    }
   ],
   "source": [
    "#This a simple arithmetic expression to mutiply then add integers\n",
    "(3*4)+5"
   ]
  },
  {
   "cell_type": "code",
   "execution_count": 3,
   "id": "8281025f-58cd-4ac8-b85b-adc22c0352d0",
   "metadata": {},
   "outputs": [
    {
     "name": "stdout",
     "output_type": "stream",
     "text": [
      "3.3333333333333335 minutes\n"
     ]
    }
   ],
   "source": [
    "#This will convert 200 minutes to hours by diving by 60\n",
    "result = 200/60\n",
    "print(str(result) + \" minutes\")"
   ]
  },
  {
   "cell_type": "markdown",
   "id": "62808000-bf89-4c73-bac3-24af42dc7b17",
   "metadata": {},
   "source": [
    "## Arthur\n",
    "Terron "
   ]
  }
 ],
 "metadata": {
  "kernelspec": {
   "display_name": "Python [conda env:base] *",
   "language": "python",
   "name": "conda-base-py"
  },
  "language_info": {
   "codemirror_mode": {
    "name": "ipython",
    "version": 3
   },
   "file_extension": ".py",
   "mimetype": "text/x-python",
   "name": "python",
   "nbconvert_exporter": "python",
   "pygments_lexer": "ipython3",
   "version": "3.13.5"
  }
 },
 "nbformat": 4,
 "nbformat_minor": 5
}
